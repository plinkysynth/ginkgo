{
 "cells": [
  {
   "cell_type": "code",
   "execution_count": 20,
   "id": "bc116274",
   "metadata": {},
   "outputs": [
    {
     "name": "stdout",
     "output_type": "stream",
     "text": [
      "static const float A=3.272433237e-05f, B = 1.181248215e-14f;\n"
     ]
    }
   ],
   "source": [
    "import numpy as np\n",
    "from scipy.optimize import curve_fit\n",
    "# fit a curve to tanh(x) for svf g parameter; emphasise frequencies in the audible note range\n",
    "sample_rate = 96000\n",
    "def target(x):\n",
    "    return np.tan(np.pi * x / sample_rate)\n",
    "def poly(x, A, B):\n",
    "    return x * (A + B * x * x);\n",
    "fromt, tot = 48, 5000\n",
    "x = np.linspace(fromt**0.25, tot**0.25, 1000) ** 4\n",
    "y = target(x)\n",
    "params, cov = curve_fit(poly, x, y, p0=[3.272433237e-05, 1.181248214e-14])\n",
    "A, B = params\n",
    "print(f\"static const float A={A:.10g}f, B = {B:.10g}f;\")"
   ]
  }
 ],
 "metadata": {
  "kernelspec": {
   "display_name": ".venv",
   "language": "python",
   "name": "python3"
  },
  "language_info": {
   "codemirror_mode": {
    "name": "ipython",
    "version": 3
   },
   "file_extension": ".py",
   "mimetype": "text/x-python",
   "name": "python",
   "nbconvert_exporter": "python",
   "pygments_lexer": "ipython3",
   "version": "3.13.6"
  }
 },
 "nbformat": 4,
 "nbformat_minor": 5
}
